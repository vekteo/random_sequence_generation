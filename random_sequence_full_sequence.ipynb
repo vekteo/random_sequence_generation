{
  "nbformat": 4,
  "nbformat_minor": 0,
  "metadata": {
    "colab": {
      "provenance": [],
      "authorship_tag": "ABX9TyPivKovy/MOGMOwZXIGjxg8",
      "include_colab_link": true
    },
    "kernelspec": {
      "name": "python3",
      "display_name": "Python 3"
    },
    "language_info": {
      "name": "python"
    }
  },
  "cells": [
    {
      "cell_type": "markdown",
      "metadata": {
        "id": "view-in-github",
        "colab_type": "text"
      },
      "source": [
        "<a href=\"https://colab.research.google.com/github/vekteo/random_sequence_generation/blob/main/random_sequence_full_sequence.ipynb\" target=\"_parent\"><img src=\"https://colab.research.google.com/assets/colab-badge.svg\" alt=\"Open In Colab\"/></a>"
      ]
    },
    {
      "cell_type": "markdown",
      "source": [
        "# **Code for random sequence creation**\n",
        "---\n",
        "This code generates random sequences for the ASRT task, where every triplet (e.g., three consecutive elements) occurs with approximately the same number of times."
      ],
      "metadata": {
        "id": "kv1feA83zMlW"
      }
    },
    {
      "cell_type": "code",
      "source": [
        "# Import random module\n",
        "import random\n",
        "import numpy as np\n",
        "import time\n",
        "import pandas as pd\n",
        "from google.colab import files\n",
        "import csv"
      ],
      "metadata": {
        "id": "_ibPTpQcWe1Z"
      },
      "execution_count": 1,
      "outputs": []
    },
    {
      "cell_type": "code",
      "source": [
        "sequences = []\n",
        "triplet_occurrence_dictionaries = []\n",
        "number_of_good_sequences = 0"
      ],
      "metadata": {
        "id": "YXCofo9aqfvw"
      },
      "execution_count": 2,
      "outputs": []
    },
    {
      "cell_type": "code",
      "source": [
        "# Function to choose a random number while avoiding specific combinations\n",
        "def choose_random_number():\n",
        "  while True:\n",
        "    new_value = random.randint(1, 4)\n",
        "    triplet_key = \"-\".join(map(str, my_sequence[-2:] + [new_value]))\n",
        "\n",
        "    if triplet_key not in my_dictionary or my_dictionary[triplet_key] < 38:\n",
        "     return new_value"
      ],
      "metadata": {
        "id": "K9QYKWsEWbuz"
      },
      "execution_count": 85,
      "outputs": []
    },
    {
      "cell_type": "markdown",
      "source": [
        "Run from here as many time as many sequences you need\n",
        "\n",
        "*If the next cell takes more the one second to run, rerun it - it is not able to generate a good sequence*"
      ],
      "metadata": {
        "id": "ISc7V9u6zX2e"
      }
    },
    {
      "cell_type": "code",
      "source": [
        "# Create an empty dictionary to store the counts\n",
        "my_dictionary = {}\n",
        "\n",
        "# Create an empty list for the sequence\n",
        "my_sequence = []\n",
        "\n",
        "# Add a randomly chosen element from 1 to 4, 240 times (3 blocks of ASRT)\n",
        "for i in range(2400):\n",
        "  new_value = choose_random_number()\n",
        "\n",
        "  # Update the sequence\n",
        "  my_sequence.append(new_value)\n",
        "\n",
        "  # Check for three consecutive elements and update the dictionary\n",
        "  if len(my_sequence) >= 3 and len(my_sequence)%81!=0 and len(my_sequence)%82!=0:\n",
        "    triplet = my_sequence[-3:]\n",
        "    triplet_key = \"-\".join(map(str, triplet))\n",
        "\n",
        "  # Update the dictionary\n",
        "    if triplet_key not in my_dictionary:\n",
        "      my_dictionary[triplet_key] = 1\n",
        "    else:\n",
        "       my_dictionary[triplet_key] += 1\n",
        "\n",
        "print(\"Found a potential sequence!\")\n",
        "\n",
        "if min(my_dictionary.values())>28 and len(my_dictionary)==64:\n",
        "  print(\"... and it is a good one!\")\n",
        "  sequences.append(my_sequence)\n",
        "  triplet_occurrence_dictionaries.append(my_dictionary)\n",
        "  number_of_good_sequences = number_of_good_sequences + 1\n",
        "else:\n",
        "  print(\"...but it is a bad one...\")"
      ],
      "metadata": {
        "id": "J7Tq6v2kUhwm"
      },
      "execution_count": null,
      "outputs": []
    },
    {
      "cell_type": "code",
      "source": [
        "# Create a list of block numbers each repeated 80 times (for block numbers)\n",
        "first_column = [i for i in range(1, 31) for _ in range(80)]\n",
        "\n",
        "# Create a list of the elements from sequence\n",
        "second_column = sequences[number_of_good_sequences-1]\n",
        "\n",
        "# Create a list of 2s and 1s, alternating\n",
        "third_column = [2, 1] * 1200\n",
        "\n",
        "# Create a list of zeros with the same length as the first column\n",
        "fourth_column = [0] * len(first_column)\n",
        "\n",
        "# Loop over the rows of the first column\n",
        "for i in range(1, len(first_column) + 1):\n",
        "\n",
        "  # Check if the value of the first column changes\n",
        "  if i == 1 or i == 2 or first_column[i-1] != first_column[i-2] or first_column[i-1] != first_column[i-3]:\n",
        "\n",
        "    # Assign 50 to the current and next row of the fourth column\n",
        "    fourth_column[i-1] = 50\n",
        "\n",
        "  else:\n",
        "\n",
        "    # Assign 12 to the current row of the fourth column\n",
        "    fourth_column[i-1] = 12\n",
        "\n",
        "data = pd.DataFrame({\"block\": first_column, \"triplet_type\": second_column, \"place\": third_column, \"trigger\": fourth_column})"
      ],
      "metadata": {
        "id": "SDKFplpOg77K"
      },
      "execution_count": 323,
      "outputs": []
    },
    {
      "cell_type": "code",
      "source": [
        "data.to_csv(f\"sequence_\"+str(number_of_good_sequences)+\".txt\", sep=\"\\t\", header=False, index=False)\n",
        "\n",
        "with open(f\"triplet_numbers_\"+str(number_of_good_sequences)+\".txt\", \"w\") as f:\n",
        "\n",
        "  #Print the count for each combination of three consecutive elements\n",
        "  for key in triplet_occurrence_dictionaries[0]:\n",
        "    f.write(f\"Combination: {key} | Count: {triplet_occurrence_dictionaries[0][key]} | Percentage: {triplet_occurrence_dictionaries[0][key]/2400} \\n\")"
      ],
      "metadata": {
        "id": "l7iOufZiKYKN"
      },
      "execution_count": 325,
      "outputs": []
    },
    {
      "cell_type": "code",
      "source": [
        "files.download(\"sequence_\"+str(number_of_good_sequences)+\".txt\")\n",
        "files.download(\"triplet_numbers_\"+str(number_of_good_sequences)+\".txt\")"
      ],
      "metadata": {
        "colab": {
          "base_uri": "https://localhost:8080/",
          "height": 17
        },
        "id": "wN2qEqTf5AwF",
        "outputId": "4bb55728-2a32-46a2-d58c-47f14db95e70"
      },
      "execution_count": 326,
      "outputs": [
        {
          "output_type": "display_data",
          "data": {
            "text/plain": [
              "<IPython.core.display.Javascript object>"
            ],
            "application/javascript": [
              "\n",
              "    async function download(id, filename, size) {\n",
              "      if (!google.colab.kernel.accessAllowed) {\n",
              "        return;\n",
              "      }\n",
              "      const div = document.createElement('div');\n",
              "      const label = document.createElement('label');\n",
              "      label.textContent = `Downloading \"${filename}\": `;\n",
              "      div.appendChild(label);\n",
              "      const progress = document.createElement('progress');\n",
              "      progress.max = size;\n",
              "      div.appendChild(progress);\n",
              "      document.body.appendChild(div);\n",
              "\n",
              "      const buffers = [];\n",
              "      let downloaded = 0;\n",
              "\n",
              "      const channel = await google.colab.kernel.comms.open(id);\n",
              "      // Send a message to notify the kernel that we're ready.\n",
              "      channel.send({})\n",
              "\n",
              "      for await (const message of channel.messages) {\n",
              "        // Send a message to notify the kernel that we're ready.\n",
              "        channel.send({})\n",
              "        if (message.buffers) {\n",
              "          for (const buffer of message.buffers) {\n",
              "            buffers.push(buffer);\n",
              "            downloaded += buffer.byteLength;\n",
              "            progress.value = downloaded;\n",
              "          }\n",
              "        }\n",
              "      }\n",
              "      const blob = new Blob(buffers, {type: 'application/binary'});\n",
              "      const a = document.createElement('a');\n",
              "      a.href = window.URL.createObjectURL(blob);\n",
              "      a.download = filename;\n",
              "      div.appendChild(a);\n",
              "      a.click();\n",
              "      div.remove();\n",
              "    }\n",
              "  "
            ]
          },
          "metadata": {}
        },
        {
          "output_type": "display_data",
          "data": {
            "text/plain": [
              "<IPython.core.display.Javascript object>"
            ],
            "application/javascript": [
              "download(\"download_f37823ee-4294-44cf-862f-08a7bf92a440\", \"sequence_20.txt\", 23280)"
            ]
          },
          "metadata": {}
        },
        {
          "output_type": "display_data",
          "data": {
            "text/plain": [
              "<IPython.core.display.Javascript object>"
            ],
            "application/javascript": [
              "\n",
              "    async function download(id, filename, size) {\n",
              "      if (!google.colab.kernel.accessAllowed) {\n",
              "        return;\n",
              "      }\n",
              "      const div = document.createElement('div');\n",
              "      const label = document.createElement('label');\n",
              "      label.textContent = `Downloading \"${filename}\": `;\n",
              "      div.appendChild(label);\n",
              "      const progress = document.createElement('progress');\n",
              "      progress.max = size;\n",
              "      div.appendChild(progress);\n",
              "      document.body.appendChild(div);\n",
              "\n",
              "      const buffers = [];\n",
              "      let downloaded = 0;\n",
              "\n",
              "      const channel = await google.colab.kernel.comms.open(id);\n",
              "      // Send a message to notify the kernel that we're ready.\n",
              "      channel.send({})\n",
              "\n",
              "      for await (const message of channel.messages) {\n",
              "        // Send a message to notify the kernel that we're ready.\n",
              "        channel.send({})\n",
              "        if (message.buffers) {\n",
              "          for (const buffer of message.buffers) {\n",
              "            buffers.push(buffer);\n",
              "            downloaded += buffer.byteLength;\n",
              "            progress.value = downloaded;\n",
              "          }\n",
              "        }\n",
              "      }\n",
              "      const blob = new Blob(buffers, {type: 'application/binary'});\n",
              "      const a = document.createElement('a');\n",
              "      a.href = window.URL.createObjectURL(blob);\n",
              "      a.download = filename;\n",
              "      div.appendChild(a);\n",
              "      a.click();\n",
              "      div.remove();\n",
              "    }\n",
              "  "
            ]
          },
          "metadata": {}
        },
        {
          "output_type": "display_data",
          "data": {
            "text/plain": [
              "<IPython.core.display.Javascript object>"
            ],
            "application/javascript": [
              "download(\"download_e27da77a-e18a-4716-9f80-31cb425dfa6a\", \"triplet_numbers_20.txt\", 4174)"
            ]
          },
          "metadata": {}
        }
      ]
    }
  ]
}